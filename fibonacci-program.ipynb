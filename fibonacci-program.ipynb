{
 "cells": [
  {
   "cell_type": "markdown",
   "metadata": {},
   "source": [
    "# Fibonacci Program\n",
    "\n",
    "### Source: Thinkful\n",
    "\n",
    "Modified by Dipti Muni for learning purposes.\n",
    "\n",
    "The best way to learn anything is by doing it, especially programming.\n",
    "\n",
    "What is Fibonacci number?\n",
    "\n",
    "In mathematics, the Fibonacci numbers are numbers in a sequence and that every number after the first two is the sum of the preceding ones. Detailed information: https://en.wikipedia.org/wiki/Fibonacci_number\n",
    "\n",
    "Example: 0, 1, 1, 2, 3, 5, 8, 13, 21, 34,..... By the way, it can start by 0 or by 1\n",
    "\n",
    "As described in Wikipedia, The sequence Fn of Fibonacci numbers is defined by the recurrence relation:\n",
    "\n",
    "{\\displaystyle F_{n}=F_{n-1}+F_{n-2},} \n",
    "with seed values\n",
    "\n",
    "{\\displaystyle F_{1}=1,\\;F_{2}=1} \n",
    "or\n",
    "\n",
    "{\\displaystyle F_{0}=0,\\;F_{1}=1.} \n",
    "\n",
    "\n"
   ]
  },
  {
   "cell_type": "code",
   "execution_count": 10,
   "metadata": {},
   "outputs": [],
   "source": [
    "def get_fibonacci_list_length(): # you make function name that makes sense to you.\n",
    "    return 20\n",
    "# This will get fibonacci list of numbers up to 20.\n",
    "# For right now we are just defining it. "
   ]
  },
  {
   "cell_type": "code",
   "execution_count": 11,
   "metadata": {},
   "outputs": [],
   "source": [
    "def generate_fibonacci(num):\n",
    "    result = [] # creates an empty list\n",
    "# generate_fib is a function that has a pass argument \"num\" when it is called.\n",
    "    \n",
    "    for n in range(num): # this loop will excute a block of instructions a set number of times\n",
    "        if n == 0: \n",
    "            result.append(0) # if we add the first item to the result list, append means add number 0 to results\n",
    "        elif n == 1:\n",
    "            result.append(1) # and if it is the second item append 1\n",
    "        else:\n",
    "            value = result[n - 2] + result[n - 1]\n",
    "            result.append(value)\n",
    "# else means sum the two previous items in the list and append that value to results\n",
    "    return result # still in for loop and we return result which is our populated list of numbers.\n",
    "\n",
    "# nothing prints because we didn't call the function. We just populated our numbers."
   ]
  },
  {
   "cell_type": "code",
   "execution_count": 12,
   "metadata": {
    "collapsed": true
   },
   "outputs": [],
   "source": [
    "def display_sequence(list):\n",
    "    for fib in list:\n",
    "        print(fib)\n",
    "        \n",
    "# again nothing prints because we need main function that will call all three functions above in right order\n",
    "# routing outputs from one function into another. "
   ]
  },
  {
   "cell_type": "code",
   "execution_count": 13,
   "metadata": {
    "collapsed": true
   },
   "outputs": [],
   "source": [
    "def main():\n",
    "    fibonacci_limit = get_fibonacci_list_length()\n",
    "    list = generate_fibonacci(fibonacci_limit)\n",
    "    display_sequence(list)\n",
    "# if there is error, check syntax and rerun."
   ]
  },
  {
   "cell_type": "code",
   "execution_count": 14,
   "metadata": {},
   "outputs": [
    {
     "name": "stdout",
     "output_type": "stream",
     "text": [
      "0\n",
      "1\n",
      "1\n",
      "2\n",
      "3\n",
      "5\n",
      "8\n",
      "13\n",
      "21\n",
      "34\n",
      "55\n",
      "89\n",
      "144\n",
      "233\n",
      "377\n",
      "610\n",
      "987\n",
      "1597\n",
      "2584\n",
      "4181\n"
     ]
    }
   ],
   "source": [
    "main()"
   ]
  },
  {
   "cell_type": "code",
   "execution_count": null,
   "metadata": {
    "collapsed": true
   },
   "outputs": [],
   "source": []
  },
  {
   "cell_type": "code",
   "execution_count": null,
   "metadata": {
    "collapsed": true
   },
   "outputs": [],
   "source": []
  },
  {
   "cell_type": "code",
   "execution_count": null,
   "metadata": {
    "collapsed": true
   },
   "outputs": [],
   "source": []
  },
  {
   "cell_type": "code",
   "execution_count": null,
   "metadata": {
    "collapsed": true
   },
   "outputs": [],
   "source": []
  },
  {
   "cell_type": "code",
   "execution_count": null,
   "metadata": {
    "collapsed": true
   },
   "outputs": [],
   "source": []
  },
  {
   "cell_type": "code",
   "execution_count": null,
   "metadata": {
    "collapsed": true
   },
   "outputs": [],
   "source": []
  }
 ],
 "metadata": {
  "kernelspec": {
   "display_name": "Python 3",
   "language": "python",
   "name": "python3"
  },
  "language_info": {
   "codemirror_mode": {
    "name": "ipython",
    "version": 3
   },
   "file_extension": ".py",
   "mimetype": "text/x-python",
   "name": "python",
   "nbconvert_exporter": "python",
   "pygments_lexer": "ipython3",
   "version": "3.6.3"
  }
 },
 "nbformat": 4,
 "nbformat_minor": 2
}
