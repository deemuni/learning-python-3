{
 "cells": [
  {
   "cell_type": "markdown",
   "metadata": {},
   "source": [
    "# Python Random Practice\n",
    "\n",
    "List of exercises with titles and comments\n",
    "\n",
    "Jupyter notebook one letter shortcut\n",
    "\n",
    "R = Raw NBConvert\n",
    "p = Search\n",
    "A = add cell below selected cell\n",
    "S = Save\n",
    "F = find and replace\n",
    "H = Keyboard shortcut\n",
    "J = moves cell down by one\n",
    "K = moves Cell up by one\n",
    "L = shows line number in a cell\n",
    "Z = add cell at the end\n",
    "X = deletes selected cell\n",
    "C = copies current cell\n",
    "V = paste current cell\n",
    "B = add cell above selected cell\n",
    "M = markdown\n",
    "\n",
    "### PEP 20"
   ]
  },
  {
   "cell_type": "code",
   "execution_count": 1,
   "metadata": {},
   "outputs": [
    {
     "name": "stdout",
     "output_type": "stream",
     "text": [
      "The Zen of Python, by Tim Peters\n",
      "\n",
      "Beautiful is better than ugly.\n",
      "Explicit is better than implicit.\n",
      "Simple is better than complex.\n",
      "Complex is better than complicated.\n",
      "Flat is better than nested.\n",
      "Sparse is better than dense.\n",
      "Readability counts.\n",
      "Special cases aren't special enough to break the rules.\n",
      "Although practicality beats purity.\n",
      "Errors should never pass silently.\n",
      "Unless explicitly silenced.\n",
      "In the face of ambiguity, refuse the temptation to guess.\n",
      "There should be one-- and preferably only one --obvious way to do it.\n",
      "Although that way may not be obvious at first unless you're Dutch.\n",
      "Now is better than never.\n",
      "Although never is often better than *right* now.\n",
      "If the implementation is hard to explain, it's a bad idea.\n",
      "If the implementation is easy to explain, it may be a good idea.\n",
      "Namespaces are one honking great idea -- let's do more of those!\n"
     ]
    }
   ],
   "source": [
    "import this"
   ]
  },
  {
   "cell_type": "code",
   "execution_count": 4,
   "metadata": {
    "collapsed": true
   },
   "outputs": [],
   "source": [
    "# if I type \"import this\" again it will not display the poem.\n",
    "# I will have to restart the kernel with dialog (circle arrow in jupyter)"
   ]
  },
  {
   "cell_type": "markdown",
   "metadata": {},
   "source": [
    "### Hello World"
   ]
  },
  {
   "cell_type": "code",
   "execution_count": 12,
   "metadata": {
    "collapsed": true
   },
   "outputs": [],
   "source": [
    "my_name = \"Dee\""
   ]
  },
  {
   "cell_type": "code",
   "execution_count": 8,
   "metadata": {
    "collapsed": true
   },
   "outputs": [],
   "source": [
    "greeting = \"Hello World! \""
   ]
  },
  {
   "cell_type": "code",
   "execution_count": 6,
   "metadata": {
    "collapsed": true
   },
   "outputs": [],
   "source": [
    "def say_hello(name): # noticing a colon here\n",
    "    if name == \"\": # colon here\n",
    "        print(\"Introduce yourself with a name.\")\n",
    "    else: \n",
    "        print(greeting + name) #variable and argument"
   ]
  },
  {
   "cell_type": "code",
   "execution_count": 13,
   "metadata": {},
   "outputs": [
    {
     "name": "stdout",
     "output_type": "stream",
     "text": [
      "Hello World! Dee\n"
     ]
    }
   ],
   "source": [
    "say_hello(my_name)"
   ]
  },
  {
   "cell_type": "code",
   "execution_count": 5,
   "metadata": {
    "collapsed": true
   },
   "outputs": [],
   "source": [
    "# added space between greeting and name. "
   ]
  },
  {
   "cell_type": "markdown",
   "metadata": {},
   "source": [
    "### Passing a Variable Different Values"
   ]
  },
  {
   "cell_type": "code",
   "execution_count": 11,
   "metadata": {
    "collapsed": true
   },
   "outputs": [],
   "source": [
    "url = \"https://www.python.org/dev/peps/\"\n",
    "\n",
    "# This URL is not long but can be tedious to rewrite many times. So I assigned it to a variable so now I just\n",
    "# use variable name \"url\". We are storing it to use it later."
   ]
  },
  {
   "cell_type": "code",
   "execution_count": 8,
   "metadata": {
    "collapsed": true
   },
   "outputs": [],
   "source": [
    "empty_line = \"\\n\""
   ]
  },
  {
   "cell_type": "code",
   "execution_count": 10,
   "metadata": {},
   "outputs": [
    {
     "name": "stdout",
     "output_type": "stream",
     "text": [
      "Getting to know to Python Enhancement Proposals aka PEPs will help be well informed python coder.\n",
      "\n",
      "\n"
     ]
    }
   ],
   "source": [
    "print(\"Getting to know to Python Enhancement Proposals aka PEPs will help be well informed python coder.\")\n",
    "print(empty_line) # I can use this multiple times"
   ]
  },
  {
   "cell_type": "code",
   "execution_count": 12,
   "metadata": {},
   "outputs": [
    {
     "name": "stdout",
     "output_type": "stream",
     "text": [
      "If you want to learn all the indexes of PEPS go to https://www.python.org/dev/peps/\n"
     ]
    }
   ],
   "source": [
    "print(\"If you want to learn all the indexes of PEPS go to \" + url)"
   ]
  },
  {
   "cell_type": "code",
   "execution_count": 15,
   "metadata": {},
   "outputs": [
    {
     "name": "stdout",
     "output_type": "stream",
     "text": [
      "If you want to learn how to import the Zen of Python poem go to https://www.python.org/dev/peps/pep-0020\n"
     ]
    }
   ],
   "source": [
    "print(\"If you want to learn how to import the Zen of Python poem go to \" + url + \"pep-0020\")"
   ]
  },
  {
   "cell_type": "code",
   "execution_count": 16,
   "metadata": {},
   "outputs": [
    {
     "name": "stdout",
     "output_type": "stream",
     "text": [
      "If you want to learn the style guide for Python go to https://www.python.org/dev/peps/pep-0008\n"
     ]
    }
   ],
   "source": [
    "print(\"If you want to learn the style guide for Python go to \" + url + \"pep-0008\")"
   ]
  },
  {
   "cell_type": "code",
   "execution_count": null,
   "metadata": {
    "collapsed": true
   },
   "outputs": [],
   "source": [
    "# so on it goes. I can manipulate my variable url by add strings around it. "
   ]
  },
  {
   "cell_type": "markdown",
   "metadata": {},
   "source": [
    "### Bottle Problem \n",
    "\n",
    "Because variables store information to be used later, variables can manage state in a program. "
   ]
  },
  {
   "cell_type": "code",
   "execution_count": 30,
   "metadata": {},
   "outputs": [
    {
     "name": "stdout",
     "output_type": "stream",
     "text": [
      "How many glass bottles are on the wall? 5\n"
     ]
    }
   ],
   "source": [
    "count_bottle = int(input(\"How many glass bottles are on the wall? \")) \n",
    "# when you run this, it will show input box for user to input a numeric \"int\" value\n",
    "# what if I don't include data type? Answer below"
   ]
  },
  {
   "cell_type": "code",
   "execution_count": 31,
   "metadata": {},
   "outputs": [
    {
     "name": "stdout",
     "output_type": "stream",
     "text": [
      "There are 5 glass bottles on the wall.\n"
     ]
    }
   ],
   "source": [
    "print(\"There are {} glass bottles on the wall.\".format(count_bottle))\n",
    "# use if statement if there is 1 bottle on the wall. \n",
    "# {} puts count_bottle last input value in it. .format means what to include in {}"
   ]
  },
  {
   "cell_type": "code",
   "execution_count": 32,
   "metadata": {},
   "outputs": [
    {
     "name": "stdout",
     "output_type": "stream",
     "text": [
      "Would you like me to take any down? yes\n",
      "How many? 2\n",
      "There are now 3 bottles on the wall.\n"
     ]
    }
   ],
   "source": [
    "if input(\"Would you like me to take any down? \") == \"yes\": #what if you want to include variation of yes like ya, yeah\n",
    "    remove_bottle = int(input(\"How many? \")) \n",
    "    count_bottle = count_bottle - remove_bottle\n",
    "    print(\"There are now {} bottles on the wall.\".format(count_bottle))\n",
    "else:\n",
    "    print(\"Thare are still {} bottles on the wall.\".format(count_bottle))"
   ]
  },
  {
   "cell_type": "code",
   "execution_count": 33,
   "metadata": {
    "collapsed": true
   },
   "outputs": [],
   "source": [
    "# if I put any but yes the else statement prints. "
   ]
  },
  {
   "cell_type": "markdown",
   "metadata": {},
   "source": [
    "### Naming Variables"
   ]
  },
  {
   "cell_type": "code",
   "execution_count": 34,
   "metadata": {
    "collapsed": true
   },
   "outputs": [],
   "source": [
    "#valid variable names\n",
    "name = \"Dee\"\n",
    "favorite_actor = \"Leo\"\n",
    "__password__ = \"hunter1\"\n",
    "job1 = \"Data Analyst\"\n",
    "job2 = \"Educator\""
   ]
  },
  {
   "cell_type": "code",
   "execution_count": 35,
   "metadata": {},
   "outputs": [
    {
     "ename": "SyntaxError",
     "evalue": "invalid token (<ipython-input-35-2900492fae11>, line 2)",
     "output_type": "error",
     "traceback": [
      "\u001b[0;36m  File \u001b[0;32m\"<ipython-input-35-2900492fae11>\"\u001b[0;36m, line \u001b[0;32m2\u001b[0m\n\u001b[0;31m    1_color = \"Red\"\u001b[0m\n\u001b[0m     ^\u001b[0m\n\u001b[0;31mSyntaxError\u001b[0m\u001b[0;31m:\u001b[0m invalid token\n"
     ]
    }
   ],
   "source": [
    "# No no to number first\n",
    "1_color = \"Red\"\n",
    "# no no to disallowed character. Only allowed =: _, letters, numbers\n",
    "my-password = \"password\"\n",
    "# no no to using reserved words as variables. Too confusing.\n",
    "pass = 2\n",
    "# here comes lots of errors"
   ]
  },
  {
   "cell_type": "code",
   "execution_count": 36,
   "metadata": {
    "collapsed": true
   },
   "outputs": [],
   "source": [
    "# interesting"
   ]
  },
  {
   "cell_type": "code",
   "execution_count": 37,
   "metadata": {
    "collapsed": true
   },
   "outputs": [],
   "source": [
    "# Instead of using initials for variables\n",
    "p = 0\n",
    "# Use the name that says a lot about or describes its underlying value"
   ]
  },
  {
   "cell_type": "markdown",
   "metadata": {},
   "source": [
    "### Data Type: String"
   ]
  },
  {
   "cell_type": "code",
   "execution_count": 38,
   "metadata": {},
   "outputs": [
    {
     "name": "stdout",
     "output_type": "stream",
     "text": [
      "<class 'str'>\n"
     ]
    }
   ],
   "source": [
    "food = \"pizza\"\n",
    "# built-in type will return the data type\n",
    "food_type = type(food)\n",
    "print(food_type)"
   ]
  },
  {
   "cell_type": "code",
   "execution_count": null,
   "metadata": {
    "collapsed": true
   },
   "outputs": [],
   "source": [
    "# index the character in variable food. First letter starts at 0.\n",
    "first_letter = food[0]\n",
    "print(\"The first letter is \" + first_letter + \".\")"
   ]
  },
  {
   "cell_type": "code",
   "execution_count": 41,
   "metadata": {},
   "outputs": [
    {
     "name": "stdout",
     "output_type": "stream",
     "text": [
      "5\n"
     ]
    }
   ],
   "source": [
    "# built-in len() to take number of characters it contains\n",
    "print(len(food))"
   ]
  },
  {
   "cell_type": "code",
   "execution_count": 42,
   "metadata": {},
   "outputs": [
    {
     "name": "stdout",
     "output_type": "stream",
     "text": [
      "I love pizza and veggie.\n"
     ]
    }
   ],
   "source": [
    "# concatenate\n",
    "superfood = food + \" and veggie.\"\n",
    "print(\"I love \" + superfood)"
   ]
  },
  {
   "cell_type": "code",
   "execution_count": 48,
   "metadata": {},
   "outputs": [
    {
     "name": "stdout",
     "output_type": "stream",
     "text": [
      "I am Dee, and I like pizza and veggie.\n"
     ]
    }
   ],
   "source": [
    "# fill in strings with .format() string method\n",
    "name = \"Dee\"\n",
    "sentence = \"I am {}, and I like {}\"\n",
    "print(sentence.format(name, superfood))"
   ]
  },
  {
   "cell_type": "markdown",
   "metadata": {},
   "source": [
    "### Data Type : Numbers (integers and floats)"
   ]
  },
  {
   "cell_type": "code",
   "execution_count": 49,
   "metadata": {},
   "outputs": [
    {
     "name": "stdout",
     "output_type": "stream",
     "text": [
      "0.6000000000000001\n"
     ]
    }
   ],
   "source": [
    "# Be careful with floating point math.\n",
    "print(.2 + .4)"
   ]
  },
  {
   "cell_type": "code",
   "execution_count": 53,
   "metadata": {},
   "outputs": [
    {
     "name": "stdout",
     "output_type": "stream",
     "text": [
      "Bring me 2 blueberries!\n"
     ]
    }
   ],
   "source": [
    "#it's easy to convert numbers to strings when you\n",
    "# need to:\n",
    "count = 2\n",
    "print(\"Bring me \" + str(count) + \" blueberries!\")"
   ]
  },
  {
   "cell_type": "markdown",
   "metadata": {},
   "source": [
    "### Data Type: Booleans"
   ]
  },
  {
   "cell_type": "code",
   "execution_count": 63,
   "metadata": {},
   "outputs": [
    {
     "name": "stdout",
     "output_type": "stream",
     "text": [
      "Hello Dee!\n"
     ]
    }
   ],
   "source": [
    "# assign the boolean 'True' to the variable 'logged_in'\n",
    "logged_in = True # if you change it to False, elif will print \n",
    "# if you change it any number other than 0 or 1 or to a string, else prints.\n",
    "# Remember 0 means False and 1 means True\n",
    "username = \"Dee\"\n",
    "\n",
    "if logged_in == True:\n",
    "    print(\"Hello \" + username + \"!\")\n",
    "elif logged_in == False:\n",
    "    print(\"Log in Please\")\n",
    "else: \n",
    "    print(\"Don't even think about it\") #hacking"
   ]
  },
  {
   "cell_type": "markdown",
   "metadata": {},
   "source": [
    "### Data Type: None"
   ]
  },
  {
   "cell_type": "code",
   "execution_count": 3,
   "metadata": {},
   "outputs": [
    {
     "name": "stdout",
     "output_type": "stream",
     "text": [
      "What is your name? Dee\n",
      "Thank you, Dee\n"
     ]
    }
   ],
   "source": [
    "# assign some variables none\n",
    "name = None # capital N\n",
    "animal = \"tiger\"\n",
    "action = \"ROARS\"\n",
    "strength = None\n",
    "\n",
    "if name is None:\n",
    "    name = input(\"What is your name? \")\n",
    "    print(\"Thank you, {}\".format(name))"
   ]
  },
  {
   "cell_type": "code",
   "execution_count": 4,
   "metadata": {},
   "outputs": [
    {
     "name": "stdout",
     "output_type": "stream",
     "text": [
      "What is your strength level? five\n",
      "I see that your strength level is five\n"
     ]
    }
   ],
   "source": [
    "if strength is None:\n",
    "    strength = input(\"What is your strength level? \")\n",
    "    print(\"I see that your strength level is {}\".format(strength))"
   ]
  },
  {
   "cell_type": "markdown",
   "metadata": {},
   "source": [
    "### Collections of Data: Lists\n",
    "\n",
    "Lists are ordered collections of mutable data"
   ]
  },
  {
   "cell_type": "code",
   "execution_count": 7,
   "metadata": {},
   "outputs": [
    {
     "name": "stdout",
     "output_type": "stream",
     "text": [
      "Dee\n",
      "['apple', 'grapes', 'strawberries']\n",
      "strawberries\n"
     ]
    }
   ],
   "source": [
    "names = [\"Dee\", \"Daru\", \"Papu\"]\n",
    "age_difference = [0, 5, 9]\n",
    "# list in list\n",
    "all_favorite = [\"milk\", \"dates\", [\"apple\", \"grapes\", \"strawberries\"]]\n",
    "score = [[1, 2], [2, 3]]\n",
    "# use index in the list to print specific\n",
    "print(names[0])\n",
    "print(all_favorite[2])\n",
    "print(all_favorite[2][2])"
   ]
  },
  {
   "cell_type": "code",
   "execution_count": 8,
   "metadata": {},
   "outputs": [
    {
     "name": "stdout",
     "output_type": "stream",
     "text": [
      "3\n"
     ]
    }
   ],
   "source": [
    "all_favorite_size = len(all_favorite)\n",
    "# lets see if it prints 3 or 5\n",
    "print(all_favorite_size)"
   ]
  },
  {
   "cell_type": "code",
   "execution_count": 9,
   "metadata": {},
   "outputs": [
    {
     "name": "stdout",
     "output_type": "stream",
     "text": [
      "I like ['Dee', 'Daru', 'Papu', 'Bhumi'] as my friends.\n"
     ]
    }
   ],
   "source": [
    "# add item to the end\n",
    "names.append(\"Bhumi\")\n",
    "print(\"I like {} as my friends.\".format(names))"
   ]
  },
  {
   "cell_type": "markdown",
   "metadata": {},
   "source": [
    "### Collections of Data: Dictionaries\n",
    "\n",
    "Dictionaries are unordered collection of mutable data paired in Key-value relationship."
   ]
  },
  {
   "cell_type": "code",
   "execution_count": 12,
   "metadata": {},
   "outputs": [
    {
     "name": "stdout",
     "output_type": "stream",
     "text": [
      "{'name': 'Dee', 'profession': 'Data Scientist'}\n"
     ]
    }
   ],
   "source": [
    "people = {\"name\": \"Dee\", \"profession\": \"Data Scientist\"}\n",
    "# Dictionaries are great for grouping related data together.\n",
    "print(people)"
   ]
  },
  {
   "cell_type": "code",
   "execution_count": 1,
   "metadata": {
    "collapsed": true
   },
   "outputs": [],
   "source": [
    "hero = {\n",
    "    \"name\": None,\n",
    "    \"animal\": \"Tiger\",\n",
    "    \"action\": \"ROARS\",\n",
    "    \"strength\": None,  # notice the comma in the last key-value pair\n",
    "}"
   ]
  },
  {
   "cell_type": "code",
   "execution_count": 2,
   "metadata": {},
   "outputs": [
    {
     "name": "stdout",
     "output_type": "stream",
     "text": [
      "What is your name? Dee\n",
      "Hello, Dee\n"
     ]
    }
   ],
   "source": [
    "if hero[\"name\"] is None:\n",
    "    hero[\"name\"] = input(\"What is your name? \") # input will go into value\n",
    "    print(\"Hello, {}\".format(hero[\"name\"])) # key goes inside the bracket"
   ]
  },
  {
   "cell_type": "code",
   "execution_count": 8,
   "metadata": {},
   "outputs": [
    {
     "name": "stdout",
     "output_type": "stream",
     "text": [
      "2\n"
     ]
    }
   ],
   "source": [
    "# add a new key-value pair\n",
    "hero[\"age_now\"] = 2\n",
    "print(hero[\"age_now\"]) # need quotation for the key"
   ]
  },
  {
   "cell_type": "code",
   "execution_count": 2,
   "metadata": {},
   "outputs": [
    {
     "name": "stdout",
     "output_type": "stream",
     "text": [
      "What is your name? Dee\n",
      "What is your strength? 10\n",
      "Dee, you are Tiger that ROARS with a strength level of 10.\n"
     ]
    }
   ],
   "source": [
    "if hero[\"name\"] is None:\n",
    "     hero[\"name\"] = input(\"What is your name? \")\n",
    "if hero[\"strength\"] is None:\n",
    "    hero[\"strength\"] = input(\"What is your strength? \")\n",
    "    print(\"{}, you are {} that {} with a strength level of {}.\".format(hero[\"name\"], hero[\"animal\"], hero[\"action\"], hero[\"strength\"]))"
   ]
  },
  {
   "cell_type": "code",
   "execution_count": 4,
   "metadata": {
    "collapsed": true
   },
   "outputs": [],
   "source": [
    "# Can I come the if statement? I tried hero[\"name\"] and hero[\"strength\"] #\n",
    "# no result or error. Why? #"
   ]
  }
 ],
 "metadata": {
  "kernelspec": {
   "display_name": "Python 3",
   "language": "python",
   "name": "python3"
  },
  "language_info": {
   "codemirror_mode": {
    "name": "ipython",
    "version": 3
   },
   "file_extension": ".py",
   "mimetype": "text/x-python",
   "name": "python",
   "nbconvert_exporter": "python",
   "pygments_lexer": "ipython3",
   "version": "3.6.3"
  }
 },
 "nbformat": 4,
 "nbformat_minor": 2
}
